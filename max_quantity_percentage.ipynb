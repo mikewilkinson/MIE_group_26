{
 "cells": [
  {
   "cell_type": "code",
   "execution_count": 1,
   "id": "53e71444",
   "metadata": {},
   "outputs": [],
   "source": [
    "import pandas as pd\n",
    "\n",
    "# read csv\n",
    "df = pd.read_csv('practice_level_prescribing.csv')"
   ]
  },
  {
   "cell_type": "code",
   "execution_count": 2,
   "id": "c0cec611",
   "metadata": {},
   "outputs": [
    {
     "name": "stdout",
     "output_type": "stream",
     "text": [
      "0.14089492442489931\n"
     ]
    }
   ],
   "source": [
    "#cal the sum and max of the QUALITY column\n",
    "column_sum = df['QUANTITY'].sum()\n",
    "max_value = df['QUANTITY'].max()\n",
    "\n",
    "#percentage\n",
    "max_value_percentage = (max_value / df['QUANTITY'].sum()) * 100\n",
    "print(max_value_percentage)"
   ]
  },
  {
   "cell_type": "code",
   "execution_count": 3,
   "id": "19745b7f",
   "metadata": {},
   "outputs": [
    {
     "name": "stderr",
     "output_type": "stream",
     "text": [
      ".\n",
      "----------------------------------------------------------------------\n",
      "Ran 1 test in 0.004s\n",
      "\n",
      "OK\n"
     ]
    }
   ],
   "source": [
    "import unittest\n",
    "import pandas as pd\n",
    "\n",
    "# Function for calculating max value percentage\n",
    "def calculate_max_value_percentage(data, column_name):\n",
    "    max_value = data[column_name].max()\n",
    "    max_value_percentage = (max_value / data[column_name].sum()) * 100\n",
    "    return max_value_percentage\n",
    "\n",
    "# Unit Test Class\n",
    "class TestMaxValuePercentage(unittest.TestCase):\n",
    "\n",
    "    def test_max_value_percentage(self):\n",
    "        # Sample data to simulate an existing DataFrame\n",
    "        df = pd.DataFrame({\n",
    "            'QUANTITY': [5, 10, 15, 20, 25]  # Simulating existing DataFrame with a 'QUANTITY' column\n",
    "        })\n",
    "\n",
    "        # Call the function to calculate the max value percentage\n",
    "        result = calculate_max_value_percentage(df, 'QUANTITY')\n",
    "\n",
    "        # Calculate the expected result\n",
    "        expected_percentage = df['QUANTITY'].max() / df['QUANTITY'].sum() * 100\n",
    "\n",
    "        # Assert whether the result matches the expected percentage\n",
    "        self.assertAlmostEqual(result, expected_percentage, delta=0.001)\n",
    "\n",
    "if __name__ == '__main__':\n",
    "    unittest.main(argv=[''], exit=False)\n"
   ]
  },
  {
   "cell_type": "code",
   "execution_count": null,
   "id": "badd7263",
   "metadata": {},
   "outputs": [],
   "source": []
  }
 ],
 "metadata": {
  "kernelspec": {
   "display_name": "Python 3 (ipykernel)",
   "language": "python",
   "name": "python3"
  },
  "language_info": {
   "codemirror_mode": {
    "name": "ipython",
    "version": 3
   },
   "file_extension": ".py",
   "mimetype": "text/x-python",
   "name": "python",
   "nbconvert_exporter": "python",
   "pygments_lexer": "ipython3",
   "version": "3.11.5"
  }
 },
 "nbformat": 4,
 "nbformat_minor": 5
}
