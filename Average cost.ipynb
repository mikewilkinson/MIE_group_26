{
 "cells": [
  {
   "cell_type": "code",
   "execution_count": 1,
   "id": "eb00b8dd",
   "metadata": {},
   "outputs": [
    {
     "name": "stdout",
     "output_type": "stream",
     "text": [
      "76.22065025147221\n"
     ]
    }
   ],
   "source": [
    "import pandas as pd\n",
    "df = pd.read_csv('/Users/fatimaanwar/Documents/MIEGroup26/MIE_group_26/practice_level_prescribing .csv')\n",
    "average = df['ACTCOST'].mean()\n",
    "print(average)"
   ]
  },
  {
   "cell_type": "code",
   "execution_count": 2,
   "id": "61f11fcd",
   "metadata": {},
   "outputs": [
    {
     "name": "stderr",
     "output_type": "stream",
     "text": [
      ".\n",
      "----------------------------------------------------------------------\n",
      "Ran 1 test in 0.001s\n",
      "\n",
      "OK\n"
     ]
    }
   ],
   "source": [
    "import unittest\n",
    "import pandas as pd\n",
    "df = pd.read_csv('/Users/fatimaanwar/Documents/MIEGroup26/MIE_group_26/practice_level_prescribing .csv')\n",
    "\n",
    "def calculate_average(df):\n",
    "    return df['ACTCOST'].mean()\n",
    "\n",
    "class TestCalculateAverage(unittest.TestCase):\n",
    "\n",
    "    def test_average_calculation(self):\n",
    "     \n",
    "        data = {'ACTCOST': [10, 20, 30, 40, 50]}\n",
    "        df = pd.DataFrame(data)\n",
    "\n",
    "\n",
    "        expected_average = sum(data['ACTCOST']) / len(data['ACTCOST'])\n",
    "\n",
    "      \n",
    "        calculated_average = calculate_average(df)\n",
    "\n",
    "\n",
    "        self.assertEqual(calculated_average, expected_average)\n",
    "\n",
    "if __name__ == '__main__':\n",
    "    unittest.main(argv=[''], exit=False)\n"
   ]
  },
  {
   "cell_type": "code",
   "execution_count": null,
   "id": "287520f6",
   "metadata": {},
   "outputs": [],
   "source": []
  }
 ],
 "metadata": {
  "kernelspec": {
   "display_name": "Python 3 (ipykernel)",
   "language": "python",
   "name": "python3"
  },
  "language_info": {
   "codemirror_mode": {
    "name": "ipython",
    "version": 3
   },
   "file_extension": ".py",
   "mimetype": "text/x-python",
   "name": "python",
   "nbconvert_exporter": "python",
   "pygments_lexer": "ipython3",
   "version": "3.11.5"
  }
 },
 "nbformat": 4,
 "nbformat_minor": 5
}
